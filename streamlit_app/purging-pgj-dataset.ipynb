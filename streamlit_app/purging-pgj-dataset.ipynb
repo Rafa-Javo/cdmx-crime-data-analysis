{
 "cells": [
  {
   "cell_type": "code",
   "execution_count": 1,
   "metadata": {},
   "outputs": [],
   "source": [
    "import pandas as pd"
   ]
  },
  {
   "cell_type": "code",
   "execution_count": 2,
   "metadata": {},
   "outputs": [],
   "source": [
    "df = pd.read_csv('carpetas-de-investigacion-pgj-cdmx.csv ',na_values='NaN',parse_dates=['fecha_hechos'])"
   ]
  },
  {
   "cell_type": "code",
   "execution_count": 3,
   "metadata": {},
   "outputs": [
    {
     "data": {
      "text/plain": [
       "Index(['año_hechos', 'mes_hechos', 'fecha_hechos', 'delito',\n",
       "       'categoria_delito', 'fiscalía', 'agencia', 'unidad_investigacion',\n",
       "       'colonia_hechos', 'alcaldia_hechos', 'fecha_inicio', 'mes_inicio',\n",
       "       'ao_inicio', 'calle_hechos', 'calle_hechos2', 'longitud', 'latitud',\n",
       "       'Geopoint'],\n",
       "      dtype='object')"
      ]
     },
     "execution_count": 3,
     "metadata": {},
     "output_type": "execute_result"
    }
   ],
   "source": [
    "df.columns"
   ]
  },
  {
   "cell_type": "code",
   "execution_count": 4,
   "metadata": {},
   "outputs": [
    {
     "data": {
      "text/plain": [
       "Index(['fecha_hechos', 'delito', 'latitud', 'longitud'], dtype='object')"
      ]
     },
     "execution_count": 4,
     "metadata": {},
     "output_type": "execute_result"
    }
   ],
   "source": [
    "df = df[['fecha_hechos','delito','latitud','longitud']] #,'alcaldia_hechos'\n",
    "df.columns"
   ]
  },
  {
   "cell_type": "code",
   "execution_count": 5,
   "metadata": {
    "scrolled": true
   },
   "outputs": [
    {
     "name": "stdout",
     "output_type": "stream",
     "text": [
      "<class 'pandas.core.frame.DataFrame'>\n",
      "RangeIndex: 808871 entries, 0 to 808870\n",
      "Data columns (total 4 columns):\n",
      " #   Column        Non-Null Count   Dtype         \n",
      "---  ------        --------------   -----         \n",
      " 0   fecha_hechos  808673 non-null  datetime64[ns]\n",
      " 1   delito        808871 non-null  object        \n",
      " 2   latitud       777536 non-null  float64       \n",
      " 3   longitud      777536 non-null  float64       \n",
      "dtypes: datetime64[ns](1), float64(2), object(1)\n",
      "memory usage: 24.7+ MB\n"
     ]
    }
   ],
   "source": [
    "df.info()"
   ]
  },
  {
   "cell_type": "code",
   "execution_count": 6,
   "metadata": {},
   "outputs": [],
   "source": [
    "#df = df[df['EPS'].notna()]"
   ]
  },
  {
   "cell_type": "code",
   "execution_count": 7,
   "metadata": {
    "scrolled": false
   },
   "outputs": [
    {
     "name": "stdout",
     "output_type": "stream",
     "text": [
      "<class 'pandas.core.frame.DataFrame'>\n",
      "RangeIndex: 782557 entries, 0 to 782556\n",
      "Data columns (total 4 columns):\n",
      " #   Column        Non-Null Count   Dtype         \n",
      "---  ------        --------------   -----         \n",
      " 0   fecha_hechos  782557 non-null  datetime64[ns]\n",
      " 1   delito        782557 non-null  object        \n",
      " 2   latitud       753150 non-null  float64       \n",
      " 3   longitud      753150 non-null  float64       \n",
      "dtypes: datetime64[ns](1), float64(2), object(1)\n",
      "memory usage: 23.9+ MB\n"
     ]
    }
   ],
   "source": [
    "df = df[df['fecha_hechos'].dt.year.isin(list(range(2016,2020)))]\n",
    "df.reset_index(inplace=True,drop=True)\n",
    "df.info()"
   ]
  },
  {
   "cell_type": "code",
   "execution_count": 9,
   "metadata": {},
   "outputs": [],
   "source": [
    "df.to_csv('purged_carpetas_de_inv_pgj_cdmx.csv',index=False)"
   ]
  },
  {
   "cell_type": "code",
   "execution_count": 10,
   "metadata": {},
   "outputs": [
    {
     "name": "stdout",
     "output_type": "stream",
     "text": [
      "<class 'pandas.core.frame.DataFrame'>\n",
      "RangeIndex: 782557 entries, 0 to 782556\n",
      "Data columns (total 4 columns):\n",
      " #   Column        Non-Null Count   Dtype  \n",
      "---  ------        --------------   -----  \n",
      " 0   fecha_hechos  782557 non-null  object \n",
      " 1   delito        782557 non-null  object \n",
      " 2   latitud       753150 non-null  float64\n",
      " 3   longitud      753150 non-null  float64\n",
      "dtypes: float64(2), object(2)\n",
      "memory usage: 23.9+ MB\n"
     ]
    }
   ],
   "source": [
    "pd.read_csv('purged_carpetas_de_inv_pgj_cdmx.csv').info()"
   ]
  },
  {
   "cell_type": "code",
   "execution_count": 17,
   "metadata": {
    "scrolled": true
   },
   "outputs": [
    {
     "name": "stdout",
     "output_type": "stream",
     "text": [
      "<class 'pandas.core.frame.DataFrame'>\n",
      "Int64Index: 777405 entries, 0 to 808869\n",
      "Data columns (total 4 columns):\n",
      " #   Column        Non-Null Count   Dtype         \n",
      "---  ------        --------------   -----         \n",
      " 0   fecha_hechos  777405 non-null  datetime64[ns]\n",
      " 1   delito        777405 non-null  object        \n",
      " 2   latitud       777405 non-null  float64       \n",
      " 3   longitud      777405 non-null  float64       \n",
      "dtypes: datetime64[ns](1), float64(2), object(1)\n",
      "memory usage: 29.7+ MB\n"
     ]
    }
   ],
   "source": [
    "df.dropna().info()"
   ]
  }
 ],
 "metadata": {
  "kernelspec": {
   "display_name": "Python 3",
   "language": "python",
   "name": "python3"
  },
  "language_info": {
   "codemirror_mode": {
    "name": "ipython",
    "version": 3
   },
   "file_extension": ".py",
   "mimetype": "text/x-python",
   "name": "python",
   "nbconvert_exporter": "python",
   "pygments_lexer": "ipython3",
   "version": "3.7.9"
  }
 },
 "nbformat": 4,
 "nbformat_minor": 4
}
