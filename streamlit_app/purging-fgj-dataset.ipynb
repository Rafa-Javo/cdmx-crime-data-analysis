{
 "cells": [
  {
   "cell_type": "code",
   "execution_count": 1,
   "metadata": {},
   "outputs": [],
   "source": [
    "import pandas as pd"
   ]
  },
  {
   "cell_type": "code",
   "execution_count": 2,
   "metadata": {},
   "outputs": [
    {
     "name": "stderr",
     "output_type": "stream",
     "text": [
      "D:\\TICS-2021-1\\MineriaDeDatos\\streamlit_env\\lib\\site-packages\\IPython\\core\\interactiveshell.py:2714: DtypeWarning: Columns (15) have mixed types.Specify dtype option on import or set low_memory=False.\n",
      "  interactivity=interactivity, compiler=compiler, result=result)\n"
     ]
    }
   ],
   "source": [
    "df = pd.read_csv('carpetas_completa_junio_2021.csv',na_values='NaN',parse_dates=['fecha_hechos'])"
   ]
  },
  {
   "cell_type": "code",
   "execution_count": 3,
   "metadata": {},
   "outputs": [
    {
     "data": {
      "text/plain": [
       "Index(['fecha_hechos', 'delito', 'latitud', 'longitud'], dtype='object')"
      ]
     },
     "execution_count": 3,
     "metadata": {},
     "output_type": "execute_result"
    }
   ],
   "source": [
    "df = df[['fecha_hechos','delito','latitud','longitud']] #,'alcaldia_hechos'\n",
    "df.columns"
   ]
  },
  {
   "cell_type": "code",
   "execution_count": 4,
   "metadata": {
    "scrolled": true
   },
   "outputs": [
    {
     "name": "stdout",
     "output_type": "stream",
     "text": [
      "<class 'pandas.core.frame.DataFrame'>\n",
      "RangeIndex: 1248924 entries, 0 to 1248923\n",
      "Data columns (total 4 columns):\n",
      " #   Column        Non-Null Count    Dtype         \n",
      "---  ------        --------------    -----         \n",
      " 0   fecha_hechos  1248489 non-null  datetime64[ns]\n",
      " 1   delito        1248924 non-null  object        \n",
      " 2   latitud       1198622 non-null  float64       \n",
      " 3   longitud      1198622 non-null  float64       \n",
      "dtypes: datetime64[ns](1), float64(2), object(1)\n",
      "memory usage: 38.1+ MB\n"
     ]
    }
   ],
   "source": [
    "df.info()"
   ]
  },
  {
   "cell_type": "code",
   "execution_count": 5,
   "metadata": {},
   "outputs": [],
   "source": [
    "#df = df[df['EPS'].notna()]"
   ]
  },
  {
   "cell_type": "code",
   "execution_count": 6,
   "metadata": {},
   "outputs": [
    {
     "data": {
      "text/plain": [
       "(Timestamp('1906-06-02 19:00:00'), Timestamp('2021-06-30 23:23:00'))"
      ]
     },
     "execution_count": 6,
     "metadata": {},
     "output_type": "execute_result"
    }
   ],
   "source": [
    "df.fecha_hechos.min(), df.fecha_hechos.max()"
   ]
  },
  {
   "cell_type": "code",
   "execution_count": 7,
   "metadata": {},
   "outputs": [
    {
     "name": "stdout",
     "output_type": "stream",
     "text": [
      "<class 'pandas.core.frame.DataFrame'>\n",
      "Int64Index: 1 entries, 1188741 to 1188741\n",
      "Data columns (total 4 columns):\n",
      " #   Column        Non-Null Count  Dtype         \n",
      "---  ------        --------------  -----         \n",
      " 0   fecha_hechos  1 non-null      datetime64[ns]\n",
      " 1   delito        1 non-null      object        \n",
      " 2   latitud       1 non-null      float64       \n",
      " 3   longitud      1 non-null      float64       \n",
      "dtypes: datetime64[ns](1), float64(2), object(1)\n",
      "memory usage: 40.0+ bytes\n"
     ]
    }
   ],
   "source": [
    "df[df.fecha_hechos == '2021-03-31 21:55:00'].info()"
   ]
  },
  {
   "cell_type": "code",
   "execution_count": 8,
   "metadata": {},
   "outputs": [
    {
     "name": "stdout",
     "output_type": "stream",
     "text": [
      "<class 'pandas.core.frame.DataFrame'>\n",
      "RangeIndex: 1219711 entries, 0 to 1219710\n",
      "Data columns (total 4 columns):\n",
      " #   Column        Non-Null Count    Dtype         \n",
      "---  ------        --------------    -----         \n",
      " 0   fecha_hechos  1219711 non-null  datetime64[ns]\n",
      " 1   delito        1219711 non-null  object        \n",
      " 2   latitud       1171810 non-null  float64       \n",
      " 3   longitud      1171810 non-null  float64       \n",
      "dtypes: datetime64[ns](1), float64(2), object(1)\n",
      "memory usage: 37.2+ MB\n"
     ]
    }
   ],
   "source": [
    "df = df[df['fecha_hechos'].dt.year.isin(list(range(2016,2022)))]\n",
    "df.reset_index(inplace=True,drop=True)\n",
    "df.info()"
   ]
  },
  {
   "cell_type": "code",
   "execution_count": 9,
   "metadata": {},
   "outputs": [
    {
     "name": "stdout",
     "output_type": "stream",
     "text": [
      "<class 'pandas.core.frame.DataFrame'>\n",
      "Int64Index: 1 entries, 1159915 to 1159915\n",
      "Data columns (total 4 columns):\n",
      " #   Column        Non-Null Count  Dtype         \n",
      "---  ------        --------------  -----         \n",
      " 0   fecha_hechos  1 non-null      datetime64[ns]\n",
      " 1   delito        1 non-null      object        \n",
      " 2   latitud       1 non-null      float64       \n",
      " 3   longitud      1 non-null      float64       \n",
      "dtypes: datetime64[ns](1), float64(2), object(1)\n",
      "memory usage: 40.0+ bytes\n"
     ]
    }
   ],
   "source": [
    "df[df.fecha_hechos == '2021-03-31 21:55:00'].info()"
   ]
  },
  {
   "cell_type": "code",
   "execution_count": 10,
   "metadata": {},
   "outputs": [],
   "source": [
    "df.to_csv('purged_carpetas_de_inv_fgj_cdmx_junio_2021.csv',index=False)"
   ]
  },
  {
   "cell_type": "code",
   "execution_count": 11,
   "metadata": {},
   "outputs": [
    {
     "name": "stdout",
     "output_type": "stream",
     "text": [
      "<class 'pandas.core.frame.DataFrame'>\n",
      "RangeIndex: 1219711 entries, 0 to 1219710\n",
      "Data columns (total 4 columns):\n",
      " #   Column        Non-Null Count    Dtype  \n",
      "---  ------        --------------    -----  \n",
      " 0   fecha_hechos  1219711 non-null  object \n",
      " 1   delito        1219711 non-null  object \n",
      " 2   latitud       1171810 non-null  float64\n",
      " 3   longitud      1171810 non-null  float64\n",
      "dtypes: float64(2), object(2)\n",
      "memory usage: 37.2+ MB\n"
     ]
    }
   ],
   "source": [
    "pd.read_csv('purged_carpetas_de_inv_fgj_cdmx_junio_2021.csv').info()"
   ]
  },
  {
   "cell_type": "code",
   "execution_count": 12,
   "metadata": {
    "scrolled": true
   },
   "outputs": [
    {
     "name": "stdout",
     "output_type": "stream",
     "text": [
      "<class 'pandas.core.frame.DataFrame'>\n",
      "Int64Index: 1171810 entries, 0 to 1219710\n",
      "Data columns (total 4 columns):\n",
      " #   Column        Non-Null Count    Dtype         \n",
      "---  ------        --------------    -----         \n",
      " 0   fecha_hechos  1171810 non-null  datetime64[ns]\n",
      " 1   delito        1171810 non-null  object        \n",
      " 2   latitud       1171810 non-null  float64       \n",
      " 3   longitud      1171810 non-null  float64       \n",
      "dtypes: datetime64[ns](1), float64(2), object(1)\n",
      "memory usage: 44.7+ MB\n"
     ]
    }
   ],
   "source": [
    "df.dropna().info()"
   ]
  },
  {
   "cell_type": "code",
   "execution_count": null,
   "metadata": {},
   "outputs": [],
   "source": []
  }
 ],
 "metadata": {
  "kernelspec": {
   "display_name": "Python 3",
   "language": "python",
   "name": "python3"
  },
  "language_info": {
   "codemirror_mode": {
    "name": "ipython",
    "version": 3
   },
   "file_extension": ".py",
   "mimetype": "text/x-python",
   "name": "python",
   "nbconvert_exporter": "python",
   "pygments_lexer": "ipython3",
   "version": "3.7.10"
  }
 },
 "nbformat": 4,
 "nbformat_minor": 4
}
